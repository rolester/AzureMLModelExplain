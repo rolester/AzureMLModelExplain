{
  "cells": [
    {
      "cell_type": "code",
      "source": [
        "from sklearn import svm\n",
        "from sklearn.compose import ColumnTransformer\n",
        "from sklearn.datasets import fetch_openml\n",
        "from sklearn.impute import SimpleImputer\n",
        "from sklearn.linear_model import LogisticRegression\n",
        "from sklearn.model_selection import train_test_split\n",
        "from sklearn.preprocessing import StandardScaler, OneHotEncoder\n",
        "from sklearn.compose import make_column_selector as selector\n",
        "from sklearn.pipeline import Pipeline\n",
        "import pandas as pd"
      ],
      "outputs": [],
      "execution_count": 47,
      "metadata": {}
    },
    {
      "cell_type": "code",
      "source": [
        "from shap.datasets import adult  # shap is only used its dataset utility\n",
        "X, y_true = adult(display=False)\n"
      ],
      "outputs": [],
      "execution_count": 26,
      "metadata": {}
    },
    {
      "cell_type": "code",
      "source": [
        "f = lambda x: 1 if x==True else 0\n",
        "y_true = pd.DataFrame(y_true).applymap(f)"
      ],
      "outputs": [],
      "execution_count": 49,
      "metadata": {}
    },
    {
      "cell_type": "code",
      "source": [
        "   \n",
        "# Extract the items we want\n",
        "X_raw = X\n",
        "y = y_true #(y_true == '>50K') * 1"
      ],
      "outputs": [],
      "execution_count": 50,
      "metadata": {}
    },
    {
      "cell_type": "code",
      "source": [
        "print(X_raw[\"Race\"].value_counts().to_dict())"
      ],
      "outputs": [
        {
          "output_type": "stream",
          "name": "stdout",
          "text": [
            "{4: 27816, 2: 3124, 1: 1039, 0: 311, 3: 271}\n"
          ]
        }
      ],
      "execution_count": 51,
      "metadata": {}
    },
    {
      "cell_type": "code",
      "source": [
        "A = X_raw[['Sex','Race']]\n",
        "X_raw = X_raw.drop(labels=['Sex', 'Race'],axis = 1)"
      ],
      "outputs": [],
      "execution_count": 52,
      "metadata": {}
    },
    {
      "cell_type": "code",
      "source": [
        "(X_train, X_test, y_train, y_test, A_train, A_test) = train_test_split(\n",
        "    X_raw, y, A, test_size=0.3, random_state=12345, stratify=y\n",
        ")\n",
        "\n",
        "# Ensure indices are aligned between X, y and A,\n",
        "# after all the slicing and splitting of DataFrames\n",
        "# and Series\n",
        "\n",
        "#X_train = X_train.reset_index(drop=True)\n",
        "#X_test = X_test.reset_index(drop=True)\n",
        "#y_train = y_train.reset_index(drop=True)\n",
        "#y_test = y_test.reset_index(drop=True)\n",
        "#A_train = A_train.reset_index(drop=True)\n",
        "#A_test = A_test.reset_index(drop=True)"
      ],
      "outputs": [],
      "execution_count": 53,
      "metadata": {}
    },
    {
      "cell_type": "code",
      "source": [
        "lr_predictor = LogisticRegression(solver='liblinear', fit_intercept=True)\n",
        "\n",
        "lr_predictor.fit(X_train, y_train)"
      ],
      "outputs": [
        {
          "output_type": "stream",
          "name": "stderr",
          "text": [
            "A column-vector y was passed when a 1d array was expected. Please change the shape of y to (n_samples, ), for example using ravel().\n"
          ]
        },
        {
          "output_type": "execute_result",
          "execution_count": 54,
          "data": {
            "text/plain": "LogisticRegression(C=1.0, class_weight=None, dual=False, fit_intercept=True,\n                   intercept_scaling=1, l1_ratio=None, max_iter=100,\n                   multi_class='auto', n_jobs=None, penalty='l2',\n                   random_state=None, solver='liblinear', tol=0.0001, verbose=0,\n                   warm_start=False)"
          },
          "metadata": {}
        }
      ],
      "execution_count": 54,
      "metadata": {}
    },
    {
      "cell_type": "code",
      "source": [
        "svm_predictor = svm.SVC()\n",
        "\n",
        "svm_predictor.fit(X_train, y_train)"
      ],
      "outputs": [
        {
          "output_type": "stream",
          "name": "stderr",
          "text": [
            "A column-vector y was passed when a 1d array was expected. Please change the shape of y to (n_samples, ), for example using ravel().\n"
          ]
        },
        {
          "output_type": "execute_result",
          "execution_count": 55,
          "data": {
            "text/plain": "SVC(C=1.0, break_ties=False, cache_size=200, class_weight=None, coef0=0.0,\n    decision_function_shape='ovr', degree=3, gamma='scale', kernel='rbf',\n    max_iter=-1, probability=False, random_state=None, shrinking=True,\n    tol=0.001, verbose=False)"
          },
          "metadata": {}
        }
      ],
      "execution_count": 55,
      "metadata": {}
    },
    {
      "cell_type": "code",
      "source": [
        "from azureml.core import Workspace, Experiment, Model\n",
        "\n",
        "ws = Workspace.from_config()\n",
        "ws.get_details()"
      ],
      "outputs": [
        {
          "output_type": "execute_result",
          "execution_count": 56,
          "data": {
            "text/plain": "{'id': '/subscriptions/6a0ec27b-1203-46fe-ade0-8c3003d5e4bc/resourceGroups/MLServiceWrokspace/providers/Microsoft.MachineLearningServices/workspaces/MLServiceWrokspace',\n 'name': 'MLServiceWrokspace',\n 'identity': {'principal_id': '35e6df99-65b7-4ba4-a3fd-54d75cc01f59',\n  'tenant_id': '72f988bf-86f1-41af-91ab-2d7cd011db47',\n  'type': 'SystemAssigned'},\n 'location': 'northeurope',\n 'type': 'Microsoft.MachineLearningServices/workspaces',\n 'tags': {},\n 'sku': 'Basic',\n 'workspaceid': 'b77f06f9-80dd-4231-9153-6a77c47edd72',\n 'sdkTelemetryAppInsightsKey': 'aea5acff-0312-49cc-a3e2-8a4470df11d5',\n 'description': '',\n 'friendlyName': '',\n 'creationTime': '2019-08-30T12:33:32.7059504+00:00',\n 'containerRegistry': '/subscriptions/6a0ec27b-1203-46fe-ade0-8c3003d5e4bc/resourceGroups/MLServiceWrokspace/providers/Microsoft.ContainerRegistry/registries/mlservicewrobf2fd1fc',\n 'keyVault': '/subscriptions/6a0ec27b-1203-46fe-ade0-8c3003d5e4bc/resourcegroups/mlservicewrokspace/providers/microsoft.keyvault/vaults/mlservicewroks8208213667',\n 'applicationInsights': '/subscriptions/6a0ec27b-1203-46fe-ade0-8c3003d5e4bc/resourcegroups/mlservicewrokspace/providers/microsoft.insights/components/mlservicewroks6194949104',\n 'storageAccount': '/subscriptions/6a0ec27b-1203-46fe-ade0-8c3003d5e4bc/resourcegroups/mlservicewrokspace/providers/microsoft.storage/storageaccounts/mlservicewroks0608373343',\n 'hbiWorkspace': False,\n 'discoveryUrl': 'https://northeurope.experiments.azureml.net/discovery',\n 'notebookInfo': {'fqdn': 'ml-mlservicewr-northeurope-b77f06f9-80dd-4231-9153-6a77c47edd72.notebooks.azure.net',\n  'resource_id': 'f18fac7070534355bcc5d9451cfaa402'}}"
          },
          "metadata": {}
        }
      ],
      "execution_count": 56,
      "metadata": {}
    },
    {
      "cell_type": "code",
      "source": [
        "#Register the models\n",
        "import joblib\n",
        "import os\n",
        "\n",
        "os.makedirs('models', exist_ok=True)\n",
        "def register_model(name, model):\n",
        "    print(\"Registering \", name)\n",
        "    model_path = \"models/{0}.pkl\".format(name)\n",
        "    joblib.dump(value=model, filename=model_path)\n",
        "    registered_model = Model.register(model_path=model_path,\n",
        "                                      model_name=name,\n",
        "                                      workspace=ws)\n",
        "    print(\"Registered \", registered_model.id)\n",
        "    return registered_model.id"
      ],
      "outputs": [],
      "execution_count": 57,
      "metadata": {}
    },
    {
      "cell_type": "code",
      "source": [
        "model_dict = {}\n",
        "\n",
        "lr_reg_id = register_model(\"fairness_linear_regression\", lr_predictor)\n",
        "model_dict[lr_reg_id] = lr_predictor\n",
        "svm_reg_id = register_model(\"fairness_svm\", svm_predictor)\n",
        "model_dict[svm_reg_id] = svm_predictor"
      ],
      "outputs": [
        {
          "output_type": "stream",
          "name": "stdout",
          "text": [
            "Registering  fairness_linear_regression\n",
            "Registering model fairness_linear_regression\n",
            "Registered  fairness_linear_regression:2\n",
            "Registering  fairness_svm\n",
            "Registering model fairness_svm\n",
            "Registered  fairness_svm:2\n"
          ]
        }
      ],
      "execution_count": 58,
      "metadata": {
        "scrolled": true
      }
    },
    {
      "cell_type": "code",
      "source": [
        "ys_pred = {}\n",
        "for n, p in model_dict.items():\n",
        "    ys_pred[n] = p.predict(X_test)"
      ],
      "outputs": [],
      "execution_count": 59,
      "metadata": {}
    },
    {
      "cell_type": "code",
      "source": [
        "from fairlearn.widget import FairlearnDashboard\n",
        "\n",
        "FairlearnDashboard(sensitive_features=A_test, \n",
        "                   sensitive_feature_names=['Sex', 'Race'],\n",
        "                   y_true=y_test,\n",
        "                   y_pred=ys_pred)"
      ],
      "outputs": [
        {
          "output_type": "display_data",
          "data": {
            "application/vnd.jupyter.widget-view+json": {
              "model_id": "c3d7160ba3774143b431e0bb5f0fca08",
              "version_major": 2,
              "version_minor": 0
            },
            "text/plain": "FairlearnWidget(value={'true_y': [[0], [0], [0], [0], [0], [0], [1], [0], [0], [0], [1], [0], [0], [0], [0], […"
          },
          "metadata": {}
        },
        {
          "output_type": "execute_result",
          "execution_count": 62,
          "data": {
            "text/plain": "<fairlearn.widget._fairlearn_dashboard.FairlearnDashboard at 0x7f30a5cd3940>"
          },
          "metadata": {}
        }
      ],
      "execution_count": 62,
      "metadata": {}
    },
    {
      "cell_type": "code",
      "source": [
        "sf = { 'Race': A_test.Race, 'Sex': A_test.Sex }\n",
        "\n",
        "from fairlearn.metrics._group_metric_set import _create_group_metric_set\n",
        "\n",
        "dash_dict = _create_group_metric_set(y_true=y_test,\n",
        "                                     predictions=ys_pred,\n",
        "                                     sensitive_features=sf,\n",
        "                                     prediction_type='binary_classification')"
      ],
      "outputs": [],
      "execution_count": 64,
      "metadata": {}
    },
    {
      "cell_type": "code",
      "source": [
        "from azureml.contrib.fairness import upload_dashboard_dictionary, download_dashboard_by_upload_id"
      ],
      "outputs": [],
      "execution_count": 65,
      "metadata": {}
    },
    {
      "cell_type": "code",
      "source": [
        "run"
      ],
      "outputs": [
        {
          "output_type": "execute_result",
          "execution_count": 70,
          "data": {
            "text/html": "<table style=\"width:100%\"><tr><th>Experiment</th><th>Id</th><th>Type</th><th>Status</th><th>Details Page</th><th>Docs Page</th></tr><tr><td>Fairlearndemo1</td><td>715cbad4-e613-44f2-88e1-05d38f016478</td><td></td><td>Running</td><td><a href=\"https://ml.azure.com/experiments/Fairlearndemo1/runs/715cbad4-e613-44f2-88e1-05d38f016478?wsid=/subscriptions/6a0ec27b-1203-46fe-ade0-8c3003d5e4bc/resourcegroups/MLServiceWrokspace/workspaces/MLServiceWrokspace\" target=\"_blank\" rel=\"noopener\">Link to Azure Machine Learning studio</a></td><td><a href=\"https://docs.microsoft.com/en-us/python/api/azureml-core/azureml.core.run.Run?view=azure-ml-py\" target=\"_blank\" rel=\"noopener\">Link to Documentation</a></td></tr></table>",
            "text/plain": "Run(Experiment: Fairlearndemo1,\nId: 715cbad4-e613-44f2-88e1-05d38f016478,\nType: None,\nStatus: Running)"
          },
          "metadata": {}
        }
      ],
      "execution_count": 70,
      "metadata": {}
    },
    {
      "cell_type": "code",
      "source": [
        "exp = Experiment(ws, \"Fairlearndemo1\")\n",
        "print(exp)\n",
        "\n",
        "run = exp.start_logging()\n",
        "try:\n",
        "    dashboard_title = \"Sample fairlearn upload\"\n",
        "    upload_id = upload_dashboard_dictionary(run,\n",
        "                                            dash_dict,\n",
        "                                            dashboard_name=dashboard_title)\n",
        "    print(\"\\nUploaded to id: {0}\\n\".format(upload_id))\n",
        "\n",
        "    downloaded_dict = download_dashboard_by_upload_id(run, upload_id)\n",
        "finally:\n",
        "    run.complete()"
      ],
      "outputs": [
        {
          "output_type": "stream",
          "name": "stdout",
          "text": [
            "Experiment(Name: Fairlearndemo1,\n",
            "Workspace: MLServiceWrokspace)\n"
          ]
        },
        {
          "output_type": "stream",
          "name": "stderr",
          "text": [
            "INFO:/anaconda/envs/azureml_py36/lib/python3.6/site-packages/azureml/contrib/fairness/_dashboard_validation.py:Starting validation of dashboard dictionary\n",
            "INFO:/anaconda/envs/azureml_py36/lib/python3.6/site-packages/azureml/contrib/fairness/_dashboard_validation.py:Validation of dashboard dictionary successful\n",
            "INFO:/anaconda/envs/azureml_py36/lib/python3.6/site-packages/azureml/contrib/fairness/_azureml_validation.py:Validating model ids exist\n",
            "INFO:/anaconda/envs/azureml_py36/lib/python3.6/site-packages/azureml/contrib/fairness/_azureml_validation.py:Checking fairness_linear_regression:2\n",
            "INFO:/anaconda/envs/azureml_py36/lib/python3.6/site-packages/azureml/contrib/fairness/_azureml_validation.py:Checking fairness_svm:2\n",
            "INFO:/anaconda/envs/azureml_py36/lib/python3.6/site-packages/azureml/contrib/fairness/_azureml_validation.py:Validation of model ids complete\n",
            "INFO:/anaconda/envs/azureml_py36/lib/python3.6/site-packages/azureml/contrib/fairness/_fairness_client.py:Uploading y_true\n",
            "INFO:azureml.FairnessArtifactClient:Uploading to azureml.fairness/dashboard.metrics/ad9d6066-8d41-42a6-a628-8ca957fd10ce/y_true/ec10f61c-a198-4956-9843-05123642d47b.json\n",
            "INFO:/anaconda/envs/azureml_py36/lib/python3.6/site-packages/azureml/contrib/fairness/_specific_uploaders.py:Uploaded y_true to prefix azureml.fairness/dashboard.metrics/ad9d6066-8d41-42a6-a628-8ca957fd10ce/y_true/ec10f61c-a198-4956-9843-05123642d47b.json\n",
            "INFO:/anaconda/envs/azureml_py36/lib/python3.6/site-packages/azureml/contrib/fairness/_fairness_client.py:Found 2 predictions\n",
            "INFO:azureml.FairnessArtifactClient:Uploading to azureml.fairness/dashboard.metrics/ad9d6066-8d41-42a6-a628-8ca957fd10ce/y_pred/d9301368-fcd7-4afb-97ae-bf8d7cf343d1.json\n",
            "INFO:/anaconda/envs/azureml_py36/lib/python3.6/site-packages/azureml/contrib/fairness/_specific_uploaders.py:Uploaded prediction to prefix azureml.fairness/dashboard.metrics/ad9d6066-8d41-42a6-a628-8ca957fd10ce/y_pred/d9301368-fcd7-4afb-97ae-bf8d7cf343d1.json\n",
            "INFO:azureml.FairnessArtifactClient:Uploading to azureml.fairness/dashboard.metrics/ad9d6066-8d41-42a6-a628-8ca957fd10ce/y_pred/a4464e83-4d4f-4504-8c29-1c365d07aa70.json\n",
            "INFO:/anaconda/envs/azureml_py36/lib/python3.6/site-packages/azureml/contrib/fairness/_specific_uploaders.py:Uploaded prediction to prefix azureml.fairness/dashboard.metrics/ad9d6066-8d41-42a6-a628-8ca957fd10ce/y_pred/a4464e83-4d4f-4504-8c29-1c365d07aa70.json\n",
            "INFO:/anaconda/envs/azureml_py36/lib/python3.6/site-packages/azureml/contrib/fairness/_specific_uploaders.py:Uploaded 2 predictions\n",
            "INFO:/anaconda/envs/azureml_py36/lib/python3.6/site-packages/azureml/contrib/fairness/_fairness_client.py:Found {0} sensitive features\n",
            "INFO:azureml.FairnessArtifactClient:Uploading to azureml.fairness/dashboard.metrics/ad9d6066-8d41-42a6-a628-8ca957fd10ce/sensitive_features_column/b9323c34-3fc2-48fe-aaff-c53a88b6c345.json\n",
            "INFO:/anaconda/envs/azureml_py36/lib/python3.6/site-packages/azureml/contrib/fairness/_specific_uploaders.py:Uploaded sensitive feature column to prefix azureml.fairness/dashboard.metrics/ad9d6066-8d41-42a6-a628-8ca957fd10ce/sensitive_features_column/b9323c34-3fc2-48fe-aaff-c53a88b6c345.json\n",
            "INFO:azureml.FairnessArtifactClient:Uploading to azureml.fairness/dashboard.metrics/ad9d6066-8d41-42a6-a628-8ca957fd10ce/sensitive_features_column/c567f8d8-43ce-4790-8813-b805ec9cd87c.json\n",
            "INFO:/anaconda/envs/azureml_py36/lib/python3.6/site-packages/azureml/contrib/fairness/_specific_uploaders.py:Uploaded sensitive feature column to prefix azureml.fairness/dashboard.metrics/ad9d6066-8d41-42a6-a628-8ca957fd10ce/sensitive_features_column/c567f8d8-43ce-4790-8813-b805ec9cd87c.json\n",
            "INFO:/anaconda/envs/azureml_py36/lib/python3.6/site-packages/azureml/contrib/fairness/_specific_uploaders.py:Uploaded 2 sensitive features\n",
            "INFO:/anaconda/envs/azureml_py36/lib/python3.6/site-packages/azureml/contrib/fairness/_fairness_client.py:Uploading metrics\n",
            "INFO:azureml.FairnessArtifactClient:Uploading to azureml.fairness/dashboard.metrics/ad9d6066-8d41-42a6-a628-8ca957fd10ce/metrics_set/ad42c916-bb6b-4a82-904c-c7336c5269ff.json\n",
            "INFO:/anaconda/envs/azureml_py36/lib/python3.6/site-packages/azureml/contrib/fairness/_specific_uploaders.py:Uploaded metrics data for prediction 0 and sensitive_feature 0\n",
            "INFO:azureml.FairnessArtifactClient:Uploading to azureml.fairness/dashboard.metrics/ad9d6066-8d41-42a6-a628-8ca957fd10ce/metrics_set/c192af52-dc21-4654-b77b-35629a413670.json\n",
            "INFO:/anaconda/envs/azureml_py36/lib/python3.6/site-packages/azureml/contrib/fairness/_specific_uploaders.py:Uploaded metrics data for prediction 1 and sensitive_feature 0\n",
            "INFO:azureml.FairnessArtifactClient:Uploading to azureml.fairness/dashboard.metrics/ad9d6066-8d41-42a6-a628-8ca957fd10ce/metrics_set/d4827c01-f648-4b52-9c2e-87868fa0b8e8.json\n",
            "INFO:/anaconda/envs/azureml_py36/lib/python3.6/site-packages/azureml/contrib/fairness/_specific_uploaders.py:Uploaded metrics data for prediction 0 and sensitive_feature 1\n",
            "INFO:azureml.FairnessArtifactClient:Uploading to azureml.fairness/dashboard.metrics/ad9d6066-8d41-42a6-a628-8ca957fd10ce/metrics_set/983a1b97-6f10-4b63-9081-4ad2d504e7a1.json\n",
            "INFO:/anaconda/envs/azureml_py36/lib/python3.6/site-packages/azureml/contrib/fairness/_specific_uploaders.py:Uploaded metrics data for prediction 1 and sensitive_feature 1\n",
            "INFO:/anaconda/envs/azureml_py36/lib/python3.6/site-packages/azureml/contrib/fairness/_fairness_client.py:Creating CUF Assets\n",
            "INFO:/anaconda/envs/azureml_py36/lib/python3.6/site-packages/azureml/contrib/fairness/_fairness_client.py:Asset uploaded with id 3b43f450817a447e8a99faf207b91162\n",
            "INFO:/anaconda/envs/azureml_py36/lib/python3.6/site-packages/azureml/contrib/fairness/_fairness_client.py:Asset uploaded with id 0cad436862774d578e4828e736c40974\n",
            "INFO:/anaconda/envs/azureml_py36/lib/python3.6/site-packages/azureml/contrib/fairness/_fairness_client.py:Asset uploaded with id 250650870a974bc79e4dd6ea581433af\n",
            "INFO:/anaconda/envs/azureml_py36/lib/python3.6/site-packages/azureml/contrib/fairness/_fairness_client.py:Asset uploaded with id 01259b987fc44d459609fcf8413f62f3\n",
            "INFO:/anaconda/envs/azureml_py36/lib/python3.6/site-packages/azureml/contrib/fairness/_fairness_client.py:Fetching asset list\n",
            "INFO:/anaconda/envs/azureml_py36/lib/python3.6/site-packages/azureml/contrib/fairness/_fairness_client.py:Populating y_true\n",
            "INFO:azureml.FairnessArtifactClient:Downloading from azureml.fairness/dashboard.metrics/ad9d6066-8d41-42a6-a628-8ca957fd10ce/y_true/ec10f61c-a198-4956-9843-05123642d47b.json\n",
            "INFO:/anaconda/envs/azureml_py36/lib/python3.6/site-packages/azureml/contrib/fairness/_fairness_client.py:Populating y_pred\n"
          ]
        },
        {
          "output_type": "stream",
          "name": "stdout",
          "text": [
            "\n",
            "Uploaded to id: ad9d6066-8d41-42a6-a628-8ca957fd10ce\n",
            "\n"
          ]
        },
        {
          "output_type": "stream",
          "name": "stderr",
          "text": [
            "INFO:azureml.FairnessArtifactClient:Downloading from azureml.fairness/dashboard.metrics/ad9d6066-8d41-42a6-a628-8ca957fd10ce/y_pred/d9301368-fcd7-4afb-97ae-bf8d7cf343d1.json\n",
            "INFO:azureml.FairnessArtifactClient:Downloading from azureml.fairness/dashboard.metrics/ad9d6066-8d41-42a6-a628-8ca957fd10ce/y_pred/a4464e83-4d4f-4504-8c29-1c365d07aa70.json\n",
            "INFO:/anaconda/envs/azureml_py36/lib/python3.6/site-packages/azureml/contrib/fairness/_fairness_client.py:Populating sensitive features\n",
            "INFO:azureml.FairnessArtifactClient:Downloading from azureml.fairness/dashboard.metrics/ad9d6066-8d41-42a6-a628-8ca957fd10ce/sensitive_features_column/b9323c34-3fc2-48fe-aaff-c53a88b6c345.json\n",
            "INFO:azureml.FairnessArtifactClient:Downloading from azureml.fairness/dashboard.metrics/ad9d6066-8d41-42a6-a628-8ca957fd10ce/sensitive_features_column/c567f8d8-43ce-4790-8813-b805ec9cd87c.json\n",
            "INFO:/anaconda/envs/azureml_py36/lib/python3.6/site-packages/azureml/contrib/fairness/_fairness_client.py:Populating metrics\n",
            "INFO:azureml.FairnessArtifactClient:Downloading from azureml.fairness/dashboard.metrics/ad9d6066-8d41-42a6-a628-8ca957fd10ce/metrics_set/ad42c916-bb6b-4a82-904c-c7336c5269ff.json\n",
            "INFO:azureml.FairnessArtifactClient:Downloading from azureml.fairness/dashboard.metrics/ad9d6066-8d41-42a6-a628-8ca957fd10ce/metrics_set/c192af52-dc21-4654-b77b-35629a413670.json\n",
            "INFO:azureml.FairnessArtifactClient:Downloading from azureml.fairness/dashboard.metrics/ad9d6066-8d41-42a6-a628-8ca957fd10ce/metrics_set/d4827c01-f648-4b52-9c2e-87868fa0b8e8.json\n",
            "INFO:azureml.FairnessArtifactClient:Downloading from azureml.fairness/dashboard.metrics/ad9d6066-8d41-42a6-a628-8ca957fd10ce/metrics_set/983a1b97-6f10-4b63-9081-4ad2d504e7a1.json\n"
          ]
        }
      ],
      "execution_count": 66,
      "metadata": {}
    },
    {
      "cell_type": "code",
      "source": [
        "print(dash_dict == downloaded_dict)"
      ],
      "outputs": [
        {
          "output_type": "stream",
          "name": "stdout",
          "text": [
            "True\n"
          ]
        }
      ],
      "execution_count": 67,
      "metadata": {}
    }
  ],
  "metadata": {
    "kernelspec": {
      "name": "python3-azureml",
      "language": "python",
      "display_name": "Python 3.6 - AzureML"
    },
    "language_info": {
      "name": "python",
      "version": "3.6.9",
      "mimetype": "text/x-python",
      "codemirror_mode": {
        "name": "ipython",
        "version": 3
      },
      "pygments_lexer": "ipython3",
      "nbconvert_exporter": "python",
      "file_extension": ".py"
    },
    "kernel_info": {
      "name": "python3-azureml"
    },
    "nteract": {
      "version": "nteract-front-end@1.0.0"
    }
  },
  "nbformat": 4,
  "nbformat_minor": 2
}