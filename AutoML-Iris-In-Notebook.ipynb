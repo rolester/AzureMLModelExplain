{
 "cells": [
  {
   "cell_type": "code",
   "execution_count": 1,
   "metadata": {},
   "outputs": [
    {
     "name": "stdout",
     "output_type": "stream",
     "text": [
      "SDK version: 1.6.0\n"
     ]
    }
   ],
   "source": [
    "from azureml.core import Experiment, Run, Workspace\n",
    "import azureml.core\n",
    "\n",
    "# Check core SDK version number\n",
    "print(\"SDK version:\", azureml.core.VERSION)"
   ]
  },
  {
   "cell_type": "code",
   "execution_count": 2,
   "metadata": {},
   "outputs": [
    {
     "data": {
      "text/html": [
       "<div>\n",
       "<style scoped>\n",
       "    .dataframe tbody tr th:only-of-type {\n",
       "        vertical-align: middle;\n",
       "    }\n",
       "\n",
       "    .dataframe tbody tr th {\n",
       "        vertical-align: top;\n",
       "    }\n",
       "\n",
       "    .dataframe thead th {\n",
       "        text-align: right;\n",
       "    }\n",
       "</style>\n",
       "<table border=\"1\" class=\"dataframe\">\n",
       "  <thead>\n",
       "    <tr style=\"text-align: right;\">\n",
       "      <th></th>\n",
       "      <th></th>\n",
       "    </tr>\n",
       "  </thead>\n",
       "  <tbody>\n",
       "    <tr>\n",
       "      <th>Subscription ID</th>\n",
       "      <td>6a0ec27b-1203-46fe-ade0-8c3003d5e4bc</td>\n",
       "    </tr>\n",
       "    <tr>\n",
       "      <th>Workspace</th>\n",
       "      <td>MLServiceWrokspace</td>\n",
       "    </tr>\n",
       "    <tr>\n",
       "      <th>Resource Group</th>\n",
       "      <td>MLServiceWrokspace</td>\n",
       "    </tr>\n",
       "    <tr>\n",
       "      <th>Location</th>\n",
       "      <td>northeurope</td>\n",
       "    </tr>\n",
       "    <tr>\n",
       "      <th>Experiment Name</th>\n",
       "      <td>automl-classification-ccard-local</td>\n",
       "    </tr>\n",
       "  </tbody>\n",
       "</table>\n",
       "</div>"
      ],
      "text/plain": [
       "                                                     \n",
       "Subscription ID  6a0ec27b-1203-46fe-ade0-8c3003d5e4bc\n",
       "Workspace        MLServiceWrokspace                  \n",
       "Resource Group   MLServiceWrokspace                  \n",
       "Location         northeurope                         \n",
       "Experiment Name  automl-classification-ccard-local   "
      ]
     },
     "execution_count": 2,
     "metadata": {},
     "output_type": "execute_result"
    }
   ],
   "source": [
    "import pandas as pd\n",
    "#subscription_id = '6a0ec27b-1203-46fe-ade0-8c3003d5e4bc'\n",
    "#resource_group  = 'MLServiceWrokspace'\n",
    "#workspace_name  = 'MLServiceWrokspace'\n",
    "\n",
    "#try:\n",
    "#    ws = Workspace(subscription_id = subscription_id, resource_group = resource_group, workspace_name = workspace_name)\n",
    "#    ws.write_config()\n",
    "#    print('Library configuration succeeded')\n",
    "#except:\n",
    "#    print('Workspace not found')\n",
    "\n",
    "\n",
    "ws = Workspace.from_config()\n",
    "\n",
    "# choose a name for experiment\n",
    "experiment_name = 'automl-classification-ccard-local'\n",
    "\n",
    "experiment=Experiment(ws, experiment_name)\n",
    "\n",
    "output = {}\n",
    "output['Subscription ID'] = ws.subscription_id\n",
    "output['Workspace'] = ws.name\n",
    "output['Resource Group'] = ws.resource_group\n",
    "output['Location'] = ws.location\n",
    "output['Experiment Name'] = experiment.name\n",
    "pd.set_option('display.max_colwidth', -1)\n",
    "outputDf = pd.DataFrame(data = output, index = [''])\n",
    "outputDf.T"
   ]
  },
  {
   "cell_type": "code",
   "execution_count": 3,
   "metadata": {},
   "outputs": [],
   "source": [
    "experiment_name = 'autoMLdemo1'"
   ]
  },
  {
   "cell_type": "code",
   "execution_count": 4,
   "metadata": {},
   "outputs": [
    {
     "data": {
      "text/plain": [
       "pandas.core.frame.DataFrame"
      ]
     },
     "execution_count": 4,
     "metadata": {},
     "output_type": "execute_result"
    }
   ],
   "source": [
    "import numpy as np\n",
    "import matplotlib.pyplot as plt\n",
    "import seaborn as sns\n",
    "\n",
    "from sklearn import tree\n",
    "from sklearn.model_selection import train_test_split\n",
    "from sklearn.metrics import accuracy_score\n",
    "#from sklearn.externals import joblib\n",
    "from sklearn.datasets import load_iris\n",
    "import matplotlib.pyplot as plt\n",
    "from sklearn.metrics import confusion_matrix\n",
    "import logging\n",
    "from matplotlib import pyplot as plt\n",
    "import azureml.core\n",
    "from azureml.core.experiment import Experiment\n",
    "from azureml.core.workspace import Workspace\n",
    "from azureml.core.dataset import Dataset\n",
    "from azureml.train.automl import AutoMLConfig\n",
    "#from azureml.explain.model._internal.explanation_client import ExplanationClient\n",
    "\n",
    "irisds = load_iris()\n",
    "\n",
    "iris = sns.load_dataset(\"iris\")\n",
    "type(iris)"
   ]
  },
  {
   "cell_type": "code",
   "execution_count": 7,
   "metadata": {},
   "outputs": [],
   "source": [
    "#y = iris.species\n",
    "#X = iris.drop('species',axis=1)\n",
    "#from sklearn.model_selection import train_test_split\n",
    "#X_train, X_test, y_train, y_test = train_test_split(X, y, \n",
    "#                                                    test_size=0.3, \n",
    "#                                                    random_state=100, \n",
    "#                                                    stratify=y)\n"
   ]
  },
  {
   "cell_type": "code",
   "execution_count": 5,
   "metadata": {
    "scrolled": true
   },
   "outputs": [],
   "source": [
    "from sklearn.model_selection import train_test_split\n",
    "train, test = train_test_split(iris, test_size=0.2, random_state=42, shuffle=True, stratify=iris[\"species\"])"
   ]
  },
  {
   "cell_type": "code",
   "execution_count": 12,
   "metadata": {},
   "outputs": [],
   "source": [
    "##If we were not using 'preprocess = True' then we would have to convert to a numeric \n",
    "\n",
    "#Create a function to convert species to numeric\n",
    "#def func(x):\n",
    "#     if x == 'setosa':\n",
    "#          return 1\n",
    "#     elif x == 'versicolor':\n",
    "#         return 2\n",
    "#    elif x == 'virginica':\n",
    "#          return 3\n",
    "\n",
    "#from numpy import vectorize\n",
    "#vfunc = vectorize(func) #Define a vectorized function which takes a nested sequence of objects or numpy arrays as inputs\n",
    "\n",
    "#yfactTrain = vfunc(y_train)\n",
    "#yfactTest = vfunc(y_test)\n",
    "\n",
    "#yfactTrain = yfactTrain.reshape(len(yfactTrain))\n",
    "#yfactTest = yfactTest.reshape(len(yfactTest))\n"
   ]
  },
  {
   "cell_type": "code",
   "execution_count": 9,
   "metadata": {},
   "outputs": [],
   "source": [
    "#Make sure all the features are floats\n",
    "#X_train = X_train.astype(np.float)\n",
    "#X_test = X_test.astype(np.float)"
   ]
  },
  {
   "cell_type": "code",
   "execution_count": 9,
   "metadata": {},
   "outputs": [
    {
     "name": "stdout",
     "output_type": "stream",
     "text": [
      "     sepal_length  sepal_width  petal_length  petal_width     species\n",
      "8    4.4           2.9          1.4           0.2          setosa    \n",
      "106  4.9           2.5          4.5           1.7          virginica \n",
      "76   6.8           2.8          4.8           1.4          versicolor\n",
      "9    4.9           3.1          1.5           0.1          setosa    \n",
      "89   5.5           2.5          4.0           1.3          versicolor\n",
      "sepal_length    120\n",
      "sepal_width     120\n",
      "petal_length    120\n",
      "petal_width     120\n",
      "species         120\n",
      "dtype: int64\n"
     ]
    }
   ],
   "source": [
    "print(train.head())\n",
    "print(train.count())"
   ]
  },
  {
   "cell_type": "code",
   "execution_count": 14,
   "metadata": {},
   "outputs": [
    {
     "data": {
      "text/html": [
       "<div>\n",
       "<style scoped>\n",
       "    .dataframe tbody tr th:only-of-type {\n",
       "        vertical-align: middle;\n",
       "    }\n",
       "\n",
       "    .dataframe tbody tr th {\n",
       "        vertical-align: top;\n",
       "    }\n",
       "\n",
       "    .dataframe thead th {\n",
       "        text-align: right;\n",
       "    }\n",
       "</style>\n",
       "<table border=\"1\" class=\"dataframe\">\n",
       "  <thead>\n",
       "    <tr style=\"text-align: right;\">\n",
       "      <th></th>\n",
       "      <th>sepal_length</th>\n",
       "      <th>sepal_width</th>\n",
       "      <th>petal_length</th>\n",
       "      <th>petal_width</th>\n",
       "      <th>species</th>\n",
       "    </tr>\n",
       "  </thead>\n",
       "  <tbody>\n",
       "    <tr>\n",
       "      <th>38</th>\n",
       "      <td>4.4</td>\n",
       "      <td>3.0</td>\n",
       "      <td>1.3</td>\n",
       "      <td>0.2</td>\n",
       "      <td>setosa</td>\n",
       "    </tr>\n",
       "    <tr>\n",
       "      <th>127</th>\n",
       "      <td>6.1</td>\n",
       "      <td>3.0</td>\n",
       "      <td>4.9</td>\n",
       "      <td>1.8</td>\n",
       "      <td>virginica</td>\n",
       "    </tr>\n",
       "    <tr>\n",
       "      <th>57</th>\n",
       "      <td>4.9</td>\n",
       "      <td>2.4</td>\n",
       "      <td>3.3</td>\n",
       "      <td>1.0</td>\n",
       "      <td>versicolor</td>\n",
       "    </tr>\n",
       "    <tr>\n",
       "      <th>93</th>\n",
       "      <td>5.0</td>\n",
       "      <td>2.3</td>\n",
       "      <td>3.3</td>\n",
       "      <td>1.0</td>\n",
       "      <td>versicolor</td>\n",
       "    </tr>\n",
       "    <tr>\n",
       "      <th>42</th>\n",
       "      <td>4.4</td>\n",
       "      <td>3.2</td>\n",
       "      <td>1.3</td>\n",
       "      <td>0.2</td>\n",
       "      <td>setosa</td>\n",
       "    </tr>\n",
       "  </tbody>\n",
       "</table>\n",
       "</div>"
      ],
      "text/plain": [
       "     sepal_length  sepal_width  petal_length  petal_width     species\n",
       "38            4.4          3.0           1.3          0.2      setosa\n",
       "127           6.1          3.0           4.9          1.8   virginica\n",
       "57            4.9          2.4           3.3          1.0  versicolor\n",
       "93            5.0          2.3           3.3          1.0  versicolor\n",
       "42            4.4          3.2           1.3          0.2      setosa"
      ]
     },
     "execution_count": 14,
     "metadata": {},
     "output_type": "execute_result"
    }
   ],
   "source": [
    "test.head()"
   ]
  },
  {
   "cell_type": "code",
   "execution_count": null,
   "metadata": {},
   "outputs": [],
   "source": [
    "#! pip install azureml-train-automl-runtime"
   ]
  },
  {
   "cell_type": "code",
   "execution_count": 10,
   "metadata": {},
   "outputs": [],
   "source": [
    "automl_settings = {\n",
    "    \"n_cross_validations\": 3,\n",
    "    #\"experiment_timeout_hours\": 0.25, # This is a time limit for testing purposes, remove it for real use cases, this will drastically limit ability to find the best model possible\n",
    "    \"verbosity\": logging.INFO,\n",
    "    \"enable_stack_ensemble\": False\n",
    "}\n",
    "\n",
    "automl_config = AutoMLConfig(task = 'classification',\n",
    "                             primary_metric = 'accuracy',\n",
    "                             model_explainability=True,\n",
    "                             iterations = 4,\n",
    "                             debug_log = 'automl_errors.log',\n",
    "                             training_data = train,\n",
    "                             label_column_name = 'species',\n",
    "                             **automl_settings\n",
    "                            )"
   ]
  },
  {
   "cell_type": "code",
   "execution_count": 11,
   "metadata": {
    "scrolled": true
   },
   "outputs": [
    {
     "name": "stdout",
     "output_type": "stream",
     "text": [
      "Running on local machine\n",
      "Parent Run ID: AutoML_68d4a055-61f1-497e-97c0-0055378cf64d\n",
      "\n",
      "Current status: DatasetEvaluation. Gathering dataset statistics.\n",
      "Current status: FeaturesGeneration. Generating features for the dataset.\n",
      "Current status: DatasetFeaturization. Beginning to fit featurizers and featurize the dataset.\n",
      "Current status: DatasetFeaturizationCompleted. Completed fit featurizers and featurizing the dataset.\n",
      "Current status: DatasetCrossValidationSplit. Generating individually featurized CV splits.\n",
      "\n",
      "****************************************************************************************************\n",
      "DATA GUARDRAILS: \n",
      "\n",
      "TYPE:         Class balancing detection\n",
      "STATUS:       PASSED\n",
      "DESCRIPTION:  Your inputs were analyzed, and all classes are balanced in your training data.\n",
      "              Learn more about imbalanced data: https://aka.ms/AutomatedMLImbalancedData\n",
      "\n",
      "TYPE:         Missing feature values imputation\n",
      "STATUS:       PASSED\n",
      "DESCRIPTION:  No feature missing values were detected in the training data.\n",
      "              Learn more about missing value imputation: https://aka.ms/AutomatedMLFeaturization\n",
      "\n",
      "TYPE:         High cardinality feature detection\n",
      "STATUS:       PASSED\n",
      "DESCRIPTION:  Your inputs were analyzed, and no high cardinality features were detected.\n",
      "              Learn more about high cardinality feature handling: https://aka.ms/AutomatedMLFeaturization\n",
      "\n",
      "****************************************************************************************************\n",
      "Current status: ModelSelection. Beginning model selection.\n",
      "\n",
      "****************************************************************************************************\n",
      "ITERATION: The iteration being evaluated.\n",
      "PIPELINE: A summary description of the pipeline being evaluated.\n",
      "DURATION: Time taken for the current iteration.\n",
      "METRIC: The result of computing score on the fitted pipeline.\n",
      "BEST: The best observed score thus far.\n",
      "****************************************************************************************************\n",
      "\n",
      " ITERATION   PIPELINE                                       DURATION      METRIC      BEST\n",
      "         0   MaxAbsScaler LightGBM                          0:00:22       0.9500    0.9500\n",
      "         1   MaxAbsScaler XGBoostClassifier                 0:00:20       0.9583    0.9583\n",
      "****************************************************************************************************\n",
      "Current status: BestRunExplainModel. Best run model explanations started\n",
      "Current status: ModelExplanationDataSetSetup. Model explanations data setup completed\n",
      "Current status: PickSurrogateModel. Choosing LightGBM as the surrogate model for explanations\n",
      "Current status: EngineeredFeatureExplanations. Computation of engineered features started\n",
      "Current status: EngineeredFeatureExplanations. Computation of engineered features completed\n",
      "Current status: BestRunExplainModel. Best run model explanations completed\n",
      "****************************************************************************************************\n"
     ]
    }
   ],
   "source": [
    "from azureml.core.experiment import Experiment\n",
    "experiment=Experiment(ws, experiment_name)\n",
    "local_run = experiment.submit(automl_config, show_output = True)"
   ]
  },
  {
   "cell_type": "code",
   "execution_count": 42,
   "metadata": {},
   "outputs": [],
   "source": [
    "#from azureml.train.automl import AutoMLConfig\n",
    "#from azureml.train.automl.constants import Metric\n",
    "\n",
    "#automl_settings = {\n",
    "#    #\"n_cross_validations\": 3,\n",
    "#    #\"primary_metric\": 'average_precision_score_weighted',\n",
    "#    \"experiment_timeout_hours\": 0.25, # This is a time limit for testing purposes, remove it for real use cases, this will drastically limit ability to find the best model possible\n",
    "#    \"verbosity\": logging.INFO,\n",
    "#    \"enable_stack_ensemble\": False\n",
    "#}\n",
    "\n",
    "#Automl_config = AutoMLConfig(task = 'classification',\n",
    "#                             debug_log = 'automl_errors.log',\n",
    "#                             primary_metric = Metric.Accuracy,\n",
    "#                             model_explainability=True, #make the models explainable\n",
    "#                             iteration_timeout_minutes = 12000,\n",
    "#                             iterations = 6,\n",
    "#                             featurization = \"auto\",\n",
    "#                             training_data = train,\n",
    "#                             label_column_name = 'species',\n",
    "#                             validation_data = test,\n",
    "#                             **automl_settings)\n",
    "\n",
    "##Local compute \n",
    "#Automl_config = AutoMLConfig(task = 'classification',\n",
    "#                             primary_metric = Metric.Accuracy,\n",
    "#                             #primary_metric = Metric.AUCWeighted,\n",
    "#                             model_explainability=True, #make the models explainable\n",
    "#                             iteration_timeout_minutes = 12000,\n",
    "#                             iterations = 6,\n",
    "#                             #n_cross_validations = 2,\n",
    "#                             featurization = \"auto\",\n",
    "#                             #exit_score = 0.995,\n",
    "#                             #blacklist_models = ['kNN','LinearSVM'],\n",
    "#                             X = X_train,\n",
    "#                             y = yfactTrain,\n",
    "#                             X_valid = X_test,\n",
    "#                             y_valid = yfactTest,\n",
    "#                             path='./sample_projects/automl-local-classification')"
   ]
  },
  {
   "cell_type": "code",
   "execution_count": 12,
   "metadata": {},
   "outputs": [
    {
     "data": {
      "application/vnd.jupyter.widget-view+json": {
       "model_id": "ddeecd91e42f4bd5a90a3268a63dde79",
       "version_major": 2,
       "version_minor": 0
      },
      "text/plain": [
       "_AutoMLWidget(widget_settings={'childWidgetDisplay': 'popup', 'send_telemetry': False, 'log_level': 'INFO', 's…"
      ]
     },
     "metadata": {},
     "output_type": "display_data"
    },
    {
     "data": {
      "application/aml.mini.widget.v1": "{\"status\": \"Completed\", \"workbench_run_details_uri\": \"https://ml.azure.com/experiments/autoMLdemo1/runs/AutoML_68d4a055-61f1-497e-97c0-0055378cf64d?wsid=/subscriptions/6a0ec27b-1203-46fe-ade0-8c3003d5e4bc/resourcegroups/MLServiceWrokspace/workspaces/MLServiceWrokspace\", \"run_id\": \"AutoML_68d4a055-61f1-497e-97c0-0055378cf64d\", \"run_properties\": {\"run_id\": \"AutoML_68d4a055-61f1-497e-97c0-0055378cf64d\", \"created_utc\": \"2020-07-16T19:02:40.222632Z\", \"properties\": {\"num_iterations\": \"2\", \"training_type\": \"TrainFull\", \"acquisition_function\": \"EI\", \"primary_metric\": \"accuracy\", \"train_split\": \"0\", \"acquisition_parameter\": \"0\", \"num_cross_validation\": \"3\", \"target\": \"local\", \"RawAMLSettingsString\": \"{'name': 'autoMLdemo1', 'path': '.', 'subscription_id': '6a0ec27b-1203-46fe-ade0-8c3003d5e4bc', 'resource_group': 'MLServiceWrokspace', 'workspace_name': 'MLServiceWrokspace', 'region': 'northeurope', 'compute_target': 'local', 'spark_service': None, 'azure_service': 'Microsoft.AzureNotebookVM', '_local_managed_run_id': None, 'iterations': 2, 'primary_metric': 'accuracy', 'task_type': 'classification', 'data_script': None, 'validation_size': 0.0, 'n_cross_validations': 3, 'y_min': None, 'y_max': None, 'num_classes': 3, 'featurization': 'auto', '_ignore_package_version_incompatibilities': False, 'lag_length': 0, 'is_timeseries': False, 'max_cores_per_iteration': 1, 'max_concurrent_iterations': 1, 'iteration_timeout_minutes': None, 'mem_in_mb': None, 'enforce_time_on_windows': False, 'experiment_timeout_minutes': 8640, 'experiment_exit_score': None, 'whitelist_models': None, 'blacklist_algos': None, 'supported_models': ['TensorFlowDNN', 'LinearSVM', 'SVM', 'RandomForest', 'XGBoostClassifier', 'KNN', 'LightGBM', 'AveragedPerceptronClassifier', 'LogisticRegression', 'BernoulliNaiveBayes', 'ExtremeRandomTrees', 'DecisionTree', 'TensorFlowLinearClassifier', 'SGD', 'GradientBoosting', 'MultinomialNaiveBayes'], 'auto_blacklist': True, 'blacklist_samples_reached': False, 'exclude_nan_labels': True, 'verbosity': 20, 'debug_log': 'automl_errors.log', 'show_warnings': False, 'model_explainability': True, 'service_url': None, 'sdk_url': None, 'sdk_packages': None, 'enable_onnx_compatible_models': False, 'enable_split_onnx_featurizer_estimator_models': False, 'vm_type': None, 'telemetry_verbosity': 20, 'send_telemetry': True, 'enable_dnn': False, 'force_text_dnn': False, 'enable_feature_sweeping': True, 'enable_early_stopping': False, 'early_stopping_n_iters': 10, 'metrics': None, 'enable_ensembling': False, 'enable_stack_ensembling': False, 'ensemble_iterations': None, 'enable_tf': False, 'enable_cache': True, 'enable_subsampling': False, 'subsample_seed': None, 'enable_nimbusml': False, 'enable_streaming': False, 'force_streaming': False, 'track_child_runs': True, 'label_column_name': 'species', 'weight_column_name': None, 'cv_split_column_names': None, 'cost_mode': 1, 'metric_operation': 'maximize', 'preprocess': True, 'scenario': 'SDK-Compatible'}\", \"AMLSettingsJsonString\": \"{\\\"name\\\": \\\"autoMLdemo1\\\", \\\"path\\\": \\\".\\\", \\\"subscription_id\\\": \\\"6a0ec27b-1203-46fe-ade0-8c3003d5e4bc\\\", \\\"resource_group\\\": \\\"MLServiceWrokspace\\\", \\\"workspace_name\\\": \\\"MLServiceWrokspace\\\", \\\"region\\\": \\\"northeurope\\\", \\\"compute_target\\\": \\\"local\\\", \\\"spark_service\\\": null, \\\"azure_service\\\": \\\"Microsoft.AzureNotebookVM\\\", \\\"_local_managed_run_id\\\": null, \\\"iterations\\\": 2, \\\"primary_metric\\\": \\\"accuracy\\\", \\\"task_type\\\": \\\"classification\\\", \\\"data_script\\\": null, \\\"validation_size\\\": 0.0, \\\"n_cross_validations\\\": 3, \\\"y_min\\\": null, \\\"y_max\\\": null, \\\"num_classes\\\": 3, \\\"featurization\\\": \\\"auto\\\", \\\"_ignore_package_version_incompatibilities\\\": false, \\\"lag_length\\\": 0, \\\"is_timeseries\\\": false, \\\"max_cores_per_iteration\\\": 1, \\\"max_concurrent_iterations\\\": 1, \\\"iteration_timeout_minutes\\\": null, \\\"mem_in_mb\\\": null, \\\"enforce_time_on_windows\\\": false, \\\"experiment_timeout_minutes\\\": 8640, \\\"experiment_exit_score\\\": null, \\\"whitelist_models\\\": null, \\\"blacklist_algos\\\": null, \\\"supported_models\\\": [\\\"TensorFlowDNN\\\", \\\"LinearSVM\\\", \\\"SVM\\\", \\\"RandomForest\\\", \\\"XGBoostClassifier\\\", \\\"KNN\\\", \\\"LightGBM\\\", \\\"AveragedPerceptronClassifier\\\", \\\"LogisticRegression\\\", \\\"BernoulliNaiveBayes\\\", \\\"ExtremeRandomTrees\\\", \\\"DecisionTree\\\", \\\"TensorFlowLinearClassifier\\\", \\\"SGD\\\", \\\"GradientBoosting\\\", \\\"MultinomialNaiveBayes\\\"], \\\"auto_blacklist\\\": true, \\\"blacklist_samples_reached\\\": false, \\\"exclude_nan_labels\\\": true, \\\"verbosity\\\": 20, \\\"debug_log\\\": \\\"automl_errors.log\\\", \\\"show_warnings\\\": false, \\\"model_explainability\\\": true, \\\"service_url\\\": null, \\\"sdk_url\\\": null, \\\"sdk_packages\\\": null, \\\"enable_onnx_compatible_models\\\": false, \\\"enable_split_onnx_featurizer_estimator_models\\\": false, \\\"vm_type\\\": null, \\\"telemetry_verbosity\\\": 20, \\\"send_telemetry\\\": true, \\\"enable_dnn\\\": false, \\\"force_text_dnn\\\": false, \\\"enable_feature_sweeping\\\": true, \\\"enable_early_stopping\\\": false, \\\"early_stopping_n_iters\\\": 10, \\\"metrics\\\": null, \\\"enable_ensembling\\\": false, \\\"enable_stack_ensembling\\\": false, \\\"ensemble_iterations\\\": null, \\\"enable_tf\\\": false, \\\"enable_cache\\\": true, \\\"enable_subsampling\\\": false, \\\"subsample_seed\\\": null, \\\"enable_nimbusml\\\": false, \\\"enable_streaming\\\": false, \\\"force_streaming\\\": false, \\\"track_child_runs\\\": true, \\\"label_column_name\\\": \\\"species\\\", \\\"weight_column_name\\\": null, \\\"cv_split_column_names\\\": null, \\\"cost_mode\\\": 1, \\\"metric_operation\\\": \\\"maximize\\\", \\\"preprocess\\\": true, \\\"scenario\\\": \\\"SDK-Compatible\\\"}\", \"DataPrepJsonString\": null, \"EnableSubsampling\": \"False\", \"runTemplate\": \"AutoML\", \"azureml.runsource\": \"automl\", \"display_task_type\": \"classification\", \"dependencies_versions\": \"{\\\"azureml-widgets\\\": \\\"1.6.0\\\", \\\"azureml-train\\\": \\\"1.6.0\\\", \\\"azureml-train-restclients-hyperdrive\\\": \\\"1.6.0\\\", \\\"azureml-train-core\\\": \\\"1.6.0.post1\\\", \\\"azureml-train-automl\\\": \\\"1.6.0\\\", \\\"azureml-train-automl-runtime\\\": \\\"1.6.0\\\", \\\"azureml-train-automl-client\\\": \\\"1.6.0\\\", \\\"azureml-tensorboard\\\": \\\"1.6.0\\\", \\\"azureml-telemetry\\\": \\\"1.6.0\\\", \\\"azureml-sdk\\\": \\\"1.6.0\\\", \\\"azureml-samples\\\": \\\"0+unknown\\\", \\\"azureml-pipeline\\\": \\\"1.6.0\\\", \\\"azureml-pipeline-steps\\\": \\\"1.6.0\\\", \\\"azureml-pipeline-core\\\": \\\"1.6.0\\\", \\\"azureml-opendatasets\\\": \\\"1.6.0\\\", \\\"azureml-monitoring\\\": \\\"0.1.0a18\\\", \\\"azureml-model-management-sdk\\\": \\\"1.0.1b6.post1\\\", \\\"azureml-mlflow\\\": \\\"1.6.0\\\", \\\"azureml-interpret\\\": \\\"1.6.0\\\", \\\"azureml-explain-model\\\": \\\"1.6.0\\\", \\\"azureml-defaults\\\": \\\"1.6.0\\\", \\\"azureml-dataprep\\\": \\\"1.6.3\\\", \\\"azureml-dataprep-native\\\": \\\"14.1.0\\\", \\\"azureml-datadrift\\\": \\\"1.6.0\\\", \\\"azureml-core\\\": \\\"1.6.0\\\", \\\"azureml-contrib-services\\\": \\\"1.6.0\\\", \\\"azureml-contrib-server\\\": \\\"1.6.0\\\", \\\"azureml-contrib-reinforcementlearning\\\": \\\"1.6.0\\\", \\\"azureml-contrib-pipeline-steps\\\": \\\"1.6.0\\\", \\\"azureml-contrib-notebook\\\": \\\"1.6.0\\\", \\\"azureml-contrib-interpret\\\": \\\"1.6.0\\\", \\\"azureml-contrib-gbdt\\\": \\\"1.6.0\\\", \\\"azureml-contrib-dataset\\\": \\\"1.6.0\\\", \\\"azureml-cli-common\\\": \\\"1.6.0\\\", \\\"azureml-automl-runtime\\\": \\\"1.6.0.post1\\\", \\\"azureml-automl-core\\\": \\\"1.6.0\\\", \\\"azureml-accel-models\\\": \\\"1.6.0\\\"}\", \"ClientSdkVersion\": \"1.6.0\", \"ClientType\": \"SDK\", \"environment_cpu_name\": \"AzureML-AutoML\", \"environment_cpu_version\": \"25\", \"environment_gpu_name\": \"AzureML-AutoML-GPU\", \"environment_gpu_version\": \"14\", \"root_attribution\": \"automl\", \"attribution\": \"AutoML\", \"CancelUri\": \"https://northeurope.experiments.azureml.net/jasmine/v1.0/subscriptions/6a0ec27b-1203-46fe-ade0-8c3003d5e4bc/resourceGroups/MLServiceWrokspace/providers/Microsoft.MachineLearningServices/workspaces/MLServiceWrokspace/experiment/autoMLdemo1/cancel/AutoML_68d4a055-61f1-497e-97c0-0055378cf64d\", \"Orchestrator\": \"AutoML\", \"ProblemInfoJsonString\": \"{\\\"dataset_num_categorical\\\": 0, \\\"is_sparse\\\": false, \\\"subsampling\\\": false, \\\"dataset_classes\\\": 3, \\\"dataset_features\\\": 4, \\\"dataset_samples\\\": 120, \\\"single_frequency_class_detected\\\": false}\", \"feature_skus\": \"automatedml_sdk_guardrails\", \"azureml.git.repository_uri\": \"git@github.com:rolester/AzureMLModelExplain.git\", \"mlflow.source.git.repoURL\": \"git@github.com:rolester/AzureMLModelExplain.git\", \"azureml.git.branch\": \"master\", \"mlflow.source.git.branch\": \"master\", \"azureml.git.commit\": \"581948dd36d5f7307a1a8617c4cc0567d97a4a4b\", \"mlflow.source.git.commit\": \"581948dd36d5f7307a1a8617c4cc0567d97a4a4b\", \"azureml.git.dirty\": \"True\"}, \"tags\": {\"model_explain_run\": \"best_run\", \"azureml.automlComponent\": \"AutoML\", \"model_explain_best_run_child_id\": \"AutoML_68d4a055-61f1-497e-97c0-0055378cf64d_1\", \"best_score\": \"0.9583333333333334\", \"best_pipeline\": \"XGBoostClassifier\", \"automl_best_child_run_id\": \"AutoML_68d4a055-61f1-497e-97c0-0055378cf64d_1\"}, \"end_time_utc\": \"2020-07-16T19:03:44.555333Z\", \"status\": \"Completed\", \"log_files\": {}, \"log_groups\": [], \"run_duration\": \"0:01:04\"}, \"child_runs\": [{\"run_id\": \"AutoML_68d4a055-61f1-497e-97c0-0055378cf64d_0\", \"run_number\": 15, \"metric\": null, \"status\": \"Completed\", \"run_type\": null, \"training_percent\": \"100\", \"start_time\": \"2020-07-16T19:02:52.396144Z\", \"end_time\": \"2020-07-16T19:03:14.683446Z\", \"created_time\": \"2020-07-16T19:02:52.281868Z\", \"created_time_dt\": \"2020-07-16T19:02:52.281868Z\", \"duration\": \"0:00:22\", \"iteration\": \"0\", \"goal\": \"accuracy_max\", \"run_name\": \"MaxAbsScaler, LightGBM\", \"run_properties\": \"copy=True\", \"primary_metric\": 0.95, \"best_metric\": 0.95}, {\"run_id\": \"AutoML_68d4a055-61f1-497e-97c0-0055378cf64d_1\", \"run_number\": 16, \"metric\": null, \"status\": \"Completed\", \"run_type\": null, \"training_percent\": \"100\", \"start_time\": \"2020-07-16T19:03:15.640536Z\", \"end_time\": \"2020-07-16T19:03:35.844044Z\", \"created_time\": \"2020-07-16T19:03:15.528808Z\", \"created_time_dt\": \"2020-07-16T19:03:15.528808Z\", \"duration\": \"0:00:20\", \"iteration\": \"1\", \"goal\": \"accuracy_max\", \"run_name\": \"MaxAbsScaler, XGBoostClassifier\", \"run_properties\": \"copy=True\", \"primary_metric\": 0.95833333, \"best_metric\": 0.95833333}], \"children_metrics\": {\"categories\": [0], \"series\": {\"norm_macro_recall\": [{\"categories\": [\"0\", \"1\"], \"mode\": \"markers\", \"name\": \"norm_macro_recall\", \"stepped\": false, \"type\": \"scatter\", \"data\": [0.9287037037037035, 0.9425925925925925]}, {\"categories\": [\"0\", \"1\"], \"mode\": \"lines\", \"name\": \"norm_macro_recall_max\", \"stepped\": true, \"type\": \"scatter\", \"data\": [0.9287037037037035, 0.9425925925925925]}], \"AUC_macro\": [{\"categories\": [\"0\", \"1\"], \"mode\": \"markers\", \"name\": \"AUC_macro\", \"stepped\": false, \"type\": \"scatter\", \"data\": [0.9840643738977072, 0.9937187750521085]}, {\"categories\": [\"0\", \"1\"], \"mode\": \"lines\", \"name\": \"AUC_macro_max\", \"stepped\": true, \"type\": \"scatter\", \"data\": [0.9840643738977072, 0.9937187750521085]}], \"f1_score_weighted\": [{\"categories\": [\"0\", \"1\"], \"mode\": \"markers\", \"name\": \"f1_score_weighted\", \"stepped\": false, \"type\": \"scatter\", \"data\": [0.9500026046884392, 0.958379416282642]}, {\"categories\": [\"0\", \"1\"], \"mode\": \"lines\", \"name\": \"f1_score_weighted_max\", \"stepped\": true, \"type\": \"scatter\", \"data\": [0.9500026046884392, 0.958379416282642]}], \"f1_score_macro\": [{\"categories\": [\"0\", \"1\"], \"mode\": \"markers\", \"name\": \"f1_score_macro\", \"stepped\": false, \"type\": \"scatter\", \"data\": [0.9518974153476257, 0.9612049837856289]}, {\"categories\": [\"0\", \"1\"], \"mode\": \"lines\", \"name\": \"f1_score_macro_max\", \"stepped\": true, \"type\": \"scatter\", \"data\": [0.9518974153476257, 0.9612049837856289]}], \"matthews_correlation\": [{\"categories\": [\"0\", \"1\"], \"mode\": \"markers\", \"name\": \"matthews_correlation\", \"stepped\": false, \"type\": \"scatter\", \"data\": [0.9228933475147715, 0.9352394255873602]}, {\"categories\": [\"0\", \"1\"], \"mode\": \"lines\", \"name\": \"matthews_correlation_max\", \"stepped\": true, \"type\": \"scatter\", \"data\": [0.9228933475147715, 0.9352394255873602]}], \"precision_score_macro\": [{\"categories\": [\"0\", \"1\"], \"mode\": \"markers\", \"name\": \"precision_score_macro\", \"stepped\": false, \"type\": \"scatter\", \"data\": [0.9523801362036658, 0.9610566448801743]}, {\"categories\": [\"0\", \"1\"], \"mode\": \"lines\", \"name\": \"precision_score_macro_max\", \"stepped\": true, \"type\": \"scatter\", \"data\": [0.9523801362036658, 0.9610566448801743]}], \"accuracy\": [{\"categories\": [\"0\", \"1\"], \"mode\": \"markers\", \"name\": \"accuracy\", \"stepped\": false, \"type\": \"scatter\", \"data\": [0.9500000000000001, 0.9583333333333334]}, {\"categories\": [\"0\", \"1\"], \"mode\": \"lines\", \"name\": \"accuracy_max\", \"stepped\": true, \"type\": \"scatter\", \"data\": [0.9500000000000001, 0.9583333333333334]}], \"precision_score_weighted\": [{\"categories\": [\"0\", \"1\"], \"mode\": \"markers\", \"name\": \"precision_score_weighted\", \"stepped\": false, \"type\": \"scatter\", \"data\": [0.9510759461127107, 0.9588848039215686]}, {\"categories\": [\"0\", \"1\"], \"mode\": \"lines\", \"name\": \"precision_score_weighted_max\", \"stepped\": true, \"type\": \"scatter\", \"data\": [0.9510759461127107, 0.9588848039215686]}], \"average_precision_score_macro\": [{\"categories\": [\"0\", \"1\"], \"mode\": \"markers\", \"name\": \"average_precision_score_macro\", \"stepped\": false, \"type\": \"scatter\", \"data\": [0.978267126341745, 0.9892648026781153]}, {\"categories\": [\"0\", \"1\"], \"mode\": \"lines\", \"name\": \"average_precision_score_macro_max\", \"stepped\": true, \"type\": \"scatter\", \"data\": [0.978267126341745, 0.9892648026781153]}], \"f1_score_micro\": [{\"categories\": [\"0\", \"1\"], \"mode\": \"markers\", \"name\": \"f1_score_micro\", \"stepped\": false, \"type\": \"scatter\", \"data\": [0.9500000000000001, 0.9583333333333334]}, {\"categories\": [\"0\", \"1\"], \"mode\": \"lines\", \"name\": \"f1_score_micro_max\", \"stepped\": true, \"type\": \"scatter\", \"data\": [0.9500000000000001, 0.9583333333333334]}], \"recall_score_macro\": [{\"categories\": [\"0\", \"1\"], \"mode\": \"markers\", \"name\": \"recall_score_macro\", \"stepped\": false, \"type\": \"scatter\", \"data\": [0.9524691358024691, 0.9617283950617282]}, {\"categories\": [\"0\", \"1\"], \"mode\": \"lines\", \"name\": \"recall_score_macro_max\", \"stepped\": true, \"type\": \"scatter\", \"data\": [0.9524691358024691, 0.9617283950617282]}], \"precision_score_micro\": [{\"categories\": [\"0\", \"1\"], \"mode\": \"markers\", \"name\": \"precision_score_micro\", \"stepped\": false, \"type\": \"scatter\", \"data\": [0.9500000000000001, 0.9583333333333334]}, {\"categories\": [\"0\", \"1\"], \"mode\": \"lines\", \"name\": \"precision_score_micro_max\", \"stepped\": true, \"type\": \"scatter\", \"data\": [0.9500000000000001, 0.9583333333333334]}], \"recall_score_micro\": [{\"categories\": [\"0\", \"1\"], \"mode\": \"markers\", \"name\": \"recall_score_micro\", \"stepped\": false, \"type\": \"scatter\", \"data\": [0.9500000000000001, 0.9583333333333334]}, {\"categories\": [\"0\", \"1\"], \"mode\": \"lines\", \"name\": \"recall_score_micro_max\", \"stepped\": true, \"type\": \"scatter\", \"data\": [0.9500000000000001, 0.9583333333333334]}], \"AUC_weighted\": [{\"categories\": [\"0\", \"1\"], \"mode\": \"markers\", \"name\": \"AUC_weighted\", \"stepped\": false, \"type\": \"scatter\", \"data\": [0.9835357142857143, 0.9929155844155844]}, {\"categories\": [\"0\", \"1\"], \"mode\": \"lines\", \"name\": \"AUC_weighted_max\", \"stepped\": true, \"type\": \"scatter\", \"data\": [0.9835357142857143, 0.9929155844155844]}], \"AUC_micro\": [{\"categories\": [\"0\", \"1\"], \"mode\": \"markers\", \"name\": \"AUC_micro\", \"stepped\": false, \"type\": \"scatter\", \"data\": [0.9885416666666668, 0.9958333333333332]}, {\"categories\": [\"0\", \"1\"], \"mode\": \"lines\", \"name\": \"AUC_micro_max\", \"stepped\": true, \"type\": \"scatter\", \"data\": [0.9885416666666668, 0.9958333333333332]}], \"log_loss\": [{\"categories\": [\"0\", \"1\"], \"mode\": \"markers\", \"name\": \"log_loss\", \"stepped\": false, \"type\": \"scatter\", \"data\": [0.19960235344235056, 0.13398711860081888]}, {\"categories\": [\"0\", \"1\"], \"mode\": \"lines\", \"name\": \"log_loss_min\", \"stepped\": true, \"type\": \"scatter\", \"data\": [0.19960235344235056, 0.13398711860081888]}], \"average_precision_score_weighted\": [{\"categories\": [\"0\", \"1\"], \"mode\": \"markers\", \"name\": \"average_precision_score_weighted\", \"stepped\": false, \"type\": \"scatter\", \"data\": [0.9777765222250516, 0.9882097780530444]}, {\"categories\": [\"0\", \"1\"], \"mode\": \"lines\", \"name\": \"average_precision_score_weighted_max\", \"stepped\": true, \"type\": \"scatter\", \"data\": [0.9777765222250516, 0.9882097780530444]}], \"balanced_accuracy\": [{\"categories\": [\"0\", \"1\"], \"mode\": \"markers\", \"name\": \"balanced_accuracy\", \"stepped\": false, \"type\": \"scatter\", \"data\": [0.9524691358024691, 0.9617283950617282]}, {\"categories\": [\"0\", \"1\"], \"mode\": \"lines\", \"name\": \"balanced_accuracy_max\", \"stepped\": true, \"type\": \"scatter\", \"data\": [0.9524691358024691, 0.9617283950617282]}], \"average_precision_score_micro\": [{\"categories\": [\"0\", \"1\"], \"mode\": \"markers\", \"name\": \"average_precision_score_micro\", \"stepped\": false, \"type\": \"scatter\", \"data\": [0.9783744001688249, 0.9920450617885229]}, {\"categories\": [\"0\", \"1\"], \"mode\": \"lines\", \"name\": \"average_precision_score_micro_max\", \"stepped\": true, \"type\": \"scatter\", \"data\": [0.9783744001688249, 0.9920450617885229]}], \"weighted_accuracy\": [{\"categories\": [\"0\", \"1\"], \"mode\": \"markers\", \"name\": \"weighted_accuracy\", \"stepped\": false, \"type\": \"scatter\", \"data\": [0.9495130828251033, 0.9568660240015738]}, {\"categories\": [\"0\", \"1\"], \"mode\": \"lines\", \"name\": \"weighted_accuracy_max\", \"stepped\": true, \"type\": \"scatter\", \"data\": [0.9495130828251033, 0.9568660240015738]}], \"recall_score_weighted\": [{\"categories\": [\"0\", \"1\"], \"mode\": \"markers\", \"name\": \"recall_score_weighted\", \"stepped\": false, \"type\": \"scatter\", \"data\": [0.9500000000000001, 0.9583333333333334]}, {\"categories\": [\"0\", \"1\"], \"mode\": \"lines\", \"name\": \"recall_score_weighted_max\", \"stepped\": true, \"type\": \"scatter\", \"data\": [0.9500000000000001, 0.9583333333333334]}]}, \"metricName\": null, \"primaryMetricName\": \"accuracy\", \"showLegend\": false}, \"run_metrics\": [{\"name\": \"experiment_status\", \"run_id\": \"AutoML_68d4a055-61f1-497e-97c0-0055378cf64d\", \"categories\": [0, 1, 2, 3, 4, 5, 6, 7, 8, 9, 10, 11], \"series\": [{\"data\": [\"DatasetEvaluation\", \"FeaturesGeneration\", \"DatasetFeaturization\", \"DatasetFeaturizationCompleted\", \"DatasetCrossValidationSplit\", \"ModelSelection\", \"BestRunExplainModel\", \"ModelExplanationDataSetSetup\", \"PickSurrogateModel\", \"EngineeredFeatureExplanations\", \"EngineeredFeatureExplanations\", \"BestRunExplainModel\"]}]}, {\"name\": \"experiment_status_description\", \"run_id\": \"AutoML_68d4a055-61f1-497e-97c0-0055378cf64d\", \"categories\": [0, 1, 2, 3, 4, 5, 6, 7, 8, 9, 10, 11], \"series\": [{\"data\": [\"Gathering dataset statistics.\", \"Generating features for the dataset.\", \"Completed fit featurizers and featurizing the dataset.\", \"Generating individually featurized CV splits.\", \"Beginning to fit featurizers and featurize the dataset.\", \"Beginning model selection.\", \"Model explanations data setup completed\", \"Computation of engineered features started\", \"Best run model explanations started\", \"Choosing LightGBM as the surrogate model for explanations\", \"Computation of engineered features completed\", \"Best run model explanations completed\"]}]}, {\"name\": \"norm_macro_recall\", \"run_id\": \"AutoML_68d4a055-61f1-497e-97c0-0055378cf64d\", \"categories\": [0], \"series\": [{\"data\": [0.9425925925925925]}]}, {\"name\": \"f1_score_weighted\", \"run_id\": \"AutoML_68d4a055-61f1-497e-97c0-0055378cf64d\", \"categories\": [0], \"series\": [{\"data\": [0.958379416282642]}]}, {\"name\": \"AUC_macro\", \"run_id\": \"AutoML_68d4a055-61f1-497e-97c0-0055378cf64d\", \"categories\": [0], \"series\": [{\"data\": [0.9937187750521085]}]}, {\"name\": \"matthews_correlation\", \"run_id\": \"AutoML_68d4a055-61f1-497e-97c0-0055378cf64d\", \"categories\": [0], \"series\": [{\"data\": [0.9352394255873602]}]}, {\"name\": \"accuracy\", \"run_id\": \"AutoML_68d4a055-61f1-497e-97c0-0055378cf64d\", \"categories\": [0], \"series\": [{\"data\": [0.9583333333333334]}]}, {\"name\": \"precision_score_macro\", \"run_id\": \"AutoML_68d4a055-61f1-497e-97c0-0055378cf64d\", \"categories\": [0], \"series\": [{\"data\": [0.9610566448801743]}]}, {\"name\": \"recall_score_weighted\", \"run_id\": \"AutoML_68d4a055-61f1-497e-97c0-0055378cf64d\", \"categories\": [0], \"series\": [{\"data\": [0.9583333333333334]}]}, {\"name\": \"f1_score_macro\", \"run_id\": \"AutoML_68d4a055-61f1-497e-97c0-0055378cf64d\", \"categories\": [0], \"series\": [{\"data\": [0.9612049837856289]}]}, {\"name\": \"recall_score_micro\", \"run_id\": \"AutoML_68d4a055-61f1-497e-97c0-0055378cf64d\", \"categories\": [0], \"series\": [{\"data\": [0.9583333333333334]}]}, {\"name\": \"log_loss\", \"run_id\": \"AutoML_68d4a055-61f1-497e-97c0-0055378cf64d\", \"categories\": [0], \"series\": [{\"data\": [0.13398711860081888]}]}, {\"name\": \"balanced_accuracy\", \"run_id\": \"AutoML_68d4a055-61f1-497e-97c0-0055378cf64d\", \"categories\": [0], \"series\": [{\"data\": [0.9617283950617282]}]}, {\"name\": \"AUC_micro\", \"run_id\": \"AutoML_68d4a055-61f1-497e-97c0-0055378cf64d\", \"categories\": [0], \"series\": [{\"data\": [0.9958333333333332]}]}, {\"name\": \"AUC_weighted\", \"run_id\": \"AutoML_68d4a055-61f1-497e-97c0-0055378cf64d\", \"categories\": [0], \"series\": [{\"data\": [0.9929155844155844]}]}, {\"name\": \"average_precision_score_macro\", \"run_id\": \"AutoML_68d4a055-61f1-497e-97c0-0055378cf64d\", \"categories\": [0], \"series\": [{\"data\": [0.9892648026781153]}]}, {\"name\": \"recall_score_macro\", \"run_id\": \"AutoML_68d4a055-61f1-497e-97c0-0055378cf64d\", \"categories\": [0], \"series\": [{\"data\": [0.9617283950617282]}]}, {\"name\": \"average_precision_score_micro\", \"run_id\": \"AutoML_68d4a055-61f1-497e-97c0-0055378cf64d\", \"categories\": [0], \"series\": [{\"data\": [0.9920450617885229]}]}, {\"name\": \"f1_score_micro\", \"run_id\": \"AutoML_68d4a055-61f1-497e-97c0-0055378cf64d\", \"categories\": [0], \"series\": [{\"data\": [0.9583333333333334]}]}, {\"name\": \"precision_score_micro\", \"run_id\": \"AutoML_68d4a055-61f1-497e-97c0-0055378cf64d\", \"categories\": [0], \"series\": [{\"data\": [0.9583333333333334]}]}, {\"name\": \"average_precision_score_weighted\", \"run_id\": \"AutoML_68d4a055-61f1-497e-97c0-0055378cf64d\", \"categories\": [0], \"series\": [{\"data\": [0.9882097780530444]}]}, {\"name\": \"weighted_accuracy\", \"run_id\": \"AutoML_68d4a055-61f1-497e-97c0-0055378cf64d\", \"categories\": [0], \"series\": [{\"data\": [0.9568660240015738]}]}, {\"name\": \"precision_score_weighted\", \"run_id\": \"AutoML_68d4a055-61f1-497e-97c0-0055378cf64d\", \"categories\": [0], \"series\": [{\"data\": [0.9588848039215686]}]}], \"run_logs\": \"\\nRun is completed.\", \"graph\": {}, \"widget_settings\": {\"childWidgetDisplay\": \"popup\", \"send_telemetry\": false, \"log_level\": \"INFO\", \"sdk_version\": \"1.6.0\"}, \"loading\": false}"
     },
     "metadata": {},
     "output_type": "display_data"
    }
   ],
   "source": [
    "from azureml.widgets import RunDetails\n",
    "RunDetails(local_run).show()"
   ]
  },
  {
   "cell_type": "code",
   "execution_count": 13,
   "metadata": {},
   "outputs": [
    {
     "data": {
      "text/html": [
       "<div>\n",
       "<style scoped>\n",
       "    .dataframe tbody tr th:only-of-type {\n",
       "        vertical-align: middle;\n",
       "    }\n",
       "\n",
       "    .dataframe tbody tr th {\n",
       "        vertical-align: top;\n",
       "    }\n",
       "\n",
       "    .dataframe thead th {\n",
       "        text-align: right;\n",
       "    }\n",
       "</style>\n",
       "<table border=\"1\" class=\"dataframe\">\n",
       "  <thead>\n",
       "    <tr style=\"text-align: right;\">\n",
       "      <th></th>\n",
       "      <th>0</th>\n",
       "      <th>1</th>\n",
       "    </tr>\n",
       "  </thead>\n",
       "  <tbody>\n",
       "    <tr>\n",
       "      <th>AUC_macro</th>\n",
       "      <td>0.98</td>\n",
       "      <td>0.99</td>\n",
       "    </tr>\n",
       "    <tr>\n",
       "      <th>AUC_micro</th>\n",
       "      <td>0.99</td>\n",
       "      <td>1.00</td>\n",
       "    </tr>\n",
       "    <tr>\n",
       "      <th>AUC_weighted</th>\n",
       "      <td>0.98</td>\n",
       "      <td>0.99</td>\n",
       "    </tr>\n",
       "    <tr>\n",
       "      <th>accuracy</th>\n",
       "      <td>0.95</td>\n",
       "      <td>0.96</td>\n",
       "    </tr>\n",
       "    <tr>\n",
       "      <th>average_precision_score_macro</th>\n",
       "      <td>0.98</td>\n",
       "      <td>0.99</td>\n",
       "    </tr>\n",
       "    <tr>\n",
       "      <th>average_precision_score_micro</th>\n",
       "      <td>0.98</td>\n",
       "      <td>0.99</td>\n",
       "    </tr>\n",
       "    <tr>\n",
       "      <th>average_precision_score_weighted</th>\n",
       "      <td>0.98</td>\n",
       "      <td>0.99</td>\n",
       "    </tr>\n",
       "    <tr>\n",
       "      <th>balanced_accuracy</th>\n",
       "      <td>0.95</td>\n",
       "      <td>0.96</td>\n",
       "    </tr>\n",
       "    <tr>\n",
       "      <th>f1_score_macro</th>\n",
       "      <td>0.95</td>\n",
       "      <td>0.96</td>\n",
       "    </tr>\n",
       "    <tr>\n",
       "      <th>f1_score_micro</th>\n",
       "      <td>0.95</td>\n",
       "      <td>0.96</td>\n",
       "    </tr>\n",
       "    <tr>\n",
       "      <th>f1_score_weighted</th>\n",
       "      <td>0.95</td>\n",
       "      <td>0.96</td>\n",
       "    </tr>\n",
       "    <tr>\n",
       "      <th>log_loss</th>\n",
       "      <td>0.20</td>\n",
       "      <td>0.13</td>\n",
       "    </tr>\n",
       "    <tr>\n",
       "      <th>matthews_correlation</th>\n",
       "      <td>0.92</td>\n",
       "      <td>0.94</td>\n",
       "    </tr>\n",
       "    <tr>\n",
       "      <th>norm_macro_recall</th>\n",
       "      <td>0.93</td>\n",
       "      <td>0.94</td>\n",
       "    </tr>\n",
       "    <tr>\n",
       "      <th>precision_score_macro</th>\n",
       "      <td>0.95</td>\n",
       "      <td>0.96</td>\n",
       "    </tr>\n",
       "    <tr>\n",
       "      <th>precision_score_micro</th>\n",
       "      <td>0.95</td>\n",
       "      <td>0.96</td>\n",
       "    </tr>\n",
       "    <tr>\n",
       "      <th>precision_score_weighted</th>\n",
       "      <td>0.95</td>\n",
       "      <td>0.96</td>\n",
       "    </tr>\n",
       "    <tr>\n",
       "      <th>recall_score_macro</th>\n",
       "      <td>0.95</td>\n",
       "      <td>0.96</td>\n",
       "    </tr>\n",
       "    <tr>\n",
       "      <th>recall_score_micro</th>\n",
       "      <td>0.95</td>\n",
       "      <td>0.96</td>\n",
       "    </tr>\n",
       "    <tr>\n",
       "      <th>recall_score_weighted</th>\n",
       "      <td>0.95</td>\n",
       "      <td>0.96</td>\n",
       "    </tr>\n",
       "    <tr>\n",
       "      <th>weighted_accuracy</th>\n",
       "      <td>0.95</td>\n",
       "      <td>0.96</td>\n",
       "    </tr>\n",
       "  </tbody>\n",
       "</table>\n",
       "</div>"
      ],
      "text/plain": [
       "                                    0    1\n",
       "AUC_macro                        0.98 0.99\n",
       "AUC_micro                        0.99 1.00\n",
       "AUC_weighted                     0.98 0.99\n",
       "accuracy                         0.95 0.96\n",
       "average_precision_score_macro    0.98 0.99\n",
       "average_precision_score_micro    0.98 0.99\n",
       "average_precision_score_weighted 0.98 0.99\n",
       "balanced_accuracy                0.95 0.96\n",
       "f1_score_macro                   0.95 0.96\n",
       "f1_score_micro                   0.95 0.96\n",
       "f1_score_weighted                0.95 0.96\n",
       "log_loss                         0.20 0.13\n",
       "matthews_correlation             0.92 0.94\n",
       "norm_macro_recall                0.93 0.94\n",
       "precision_score_macro            0.95 0.96\n",
       "precision_score_micro            0.95 0.96\n",
       "precision_score_weighted         0.95 0.96\n",
       "recall_score_macro               0.95 0.96\n",
       "recall_score_micro               0.95 0.96\n",
       "recall_score_weighted            0.95 0.96\n",
       "weighted_accuracy                0.95 0.96"
      ]
     },
     "execution_count": 13,
     "metadata": {},
     "output_type": "execute_result"
    }
   ],
   "source": [
    "#Breakdown of the results\n",
    "children = list(local_run.get_children())\n",
    "metricslist = {}\n",
    "for run in children:\n",
    "    properties = run.get_properties()\n",
    "    metrics = {k: v for k, v in run.get_metrics().items() if isinstance(v, float)}\n",
    "    metricslist[int(properties['iteration'])] = metrics\n",
    "\n",
    "import pandas as pd\n",
    "rundata = pd.DataFrame(metricslist).sort_index(1)\n",
    "rundata"
   ]
  },
  {
   "cell_type": "code",
   "execution_count": 14,
   "metadata": {},
   "outputs": [],
   "source": [
    "#Get the best model\n",
    "best_run, fitted_model = local_run.get_output()\n"
   ]
  },
  {
   "cell_type": "code",
   "execution_count": 15,
   "metadata": {},
   "outputs": [
    {
     "data": {
      "text/html": [
       "<table style=\"width:100%\"><tr><th>Experiment</th><th>Id</th><th>Type</th><th>Status</th><th>Details Page</th><th>Docs Page</th></tr><tr><td>autoMLdemo1</td><td>AutoML_68d4a055-61f1-497e-97c0-0055378cf64d_1</td><td></td><td>Completed</td><td><a href=\"https://ml.azure.com/experiments/autoMLdemo1/runs/AutoML_68d4a055-61f1-497e-97c0-0055378cf64d_1?wsid=/subscriptions/6a0ec27b-1203-46fe-ade0-8c3003d5e4bc/resourcegroups/MLServiceWrokspace/workspaces/MLServiceWrokspace\" target=\"_blank\" rel=\"noopener\">Link to Azure Machine Learning studio</a></td><td><a href=\"https://docs.microsoft.com/en-us/python/api/azureml-core/azureml.core.run.Run?view=azure-ml-py\" target=\"_blank\" rel=\"noopener\">Link to Documentation</a></td></tr></table>"
      ],
      "text/plain": [
       "Run(Experiment: autoMLdemo1,\n",
       "Id: AutoML_68d4a055-61f1-497e-97c0-0055378cf64d_1,\n",
       "Type: None,\n",
       "Status: Completed)"
      ]
     },
     "execution_count": 15,
     "metadata": {},
     "output_type": "execute_result"
    }
   ],
   "source": [
    "best_run"
   ]
  },
  {
   "cell_type": "code",
   "execution_count": 66,
   "metadata": {
    "scrolled": true
   },
   "outputs": [
    {
     "name": "stdout",
     "output_type": "stream",
     "text": [
      "[[10  0  0]\n",
      " [ 0  9  1]\n",
      " [ 0  1  9]]\n"
     ]
    }
   ],
   "source": [
    "#Test with the testing data\n",
    "\n",
    "from sklearn.metrics import confusion_matrix, roc_curve, auc\n",
    "\n",
    "y_pred = (fitted_model.predict(test.iloc[:,0:4]))\n",
    "\n",
    "accuracy_score(test.iloc[:,4], y_pred)\n",
    "\n",
    "cm = confusion_matrix(test.iloc[:,4], y_pred)\n",
    "print(cm)\n"
   ]
  }
 ],
 "metadata": {
  "kernel_info": {
   "name": "python3-azureml"
  },
  "kernelspec": {
   "display_name": "Python 3.6 - AzureML",
   "language": "python",
   "name": "python3-azureml"
  },
  "language_info": {
   "codemirror_mode": {
    "name": "ipython",
    "version": 3
   },
   "file_extension": ".py",
   "mimetype": "text/x-python",
   "name": "python",
   "nbconvert_exporter": "python",
   "pygments_lexer": "ipython3",
   "version": "3.6.9"
  },
  "nteract": {
   "version": "nteract-front-end@1.0.0"
  }
 },
 "nbformat": 4,
 "nbformat_minor": 4
}
